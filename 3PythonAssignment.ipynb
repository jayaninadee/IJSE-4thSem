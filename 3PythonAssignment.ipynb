{
  "nbformat": 4,
  "nbformat_minor": 0,
  "metadata": {
    "colab": {
      "name": "Untitled1.ipynb",
      "provenance": [],
      "collapsed_sections": [],
      "authorship_tag": "ABX9TyPWaSBpnd8BoozbjFZVsjkW",
      "include_colab_link": true
    },
    "kernelspec": {
      "name": "python3",
      "display_name": "Python 3"
    }
  },
  "cells": [
    {
      "cell_type": "markdown",
      "metadata": {
        "id": "view-in-github",
        "colab_type": "text"
      },
      "source": [
        "<a href=\"https://colab.research.google.com/github/jayaninadee/IJSE-4thSem/blob/main/3PythonAssignment.ipynb\" target=\"_parent\"><img src=\"https://colab.research.google.com/assets/colab-badge.svg\" alt=\"Open In Colab\"/></a>"
      ]
    },
    {
      "cell_type": "markdown",
      "metadata": {
        "id": "pnoclYpAFmas"
      },
      "source": [
        "Finding Max\n",
        "\n"
      ]
    },
    {
      "cell_type": "code",
      "metadata": {
        "id": "hcztnTwX9SbI",
        "outputId": "88487fe1-c3e3-41e2-f87b-f435591f7800",
        "colab": {
          "base_uri": "https://localhost:8080/",
          "height": 34
        }
      },
      "source": [
        "av=[4,6,7,8,8,9,3,87,2,2,5,7,3,7,8,3,2,5,7,8,89,33,22,2,3,3,3,3]\n",
        "length = len(av)-1\n",
        "for i in range(length):\n",
        "    if av[i] > av[i + 1]:\n",
        "        av[i], av[i + 1] = av[i + 1], av[i]\n",
        "print(av[-1])"
      ],
      "execution_count": 43,
      "outputs": [
        {
          "output_type": "stream",
          "text": [
            "89\n"
          ],
          "name": "stdout"
        }
      ]
    },
    {
      "cell_type": "markdown",
      "metadata": {
        "id": "1RSGyFndFyHg"
      },
      "source": [
        "Finding Average"
      ]
    },
    {
      "cell_type": "code",
      "metadata": {
        "id": "y-wuRewoBnS0",
        "outputId": "7ab487fc-2725-491e-963c-b4cc2e5fe8f7",
        "colab": {
          "base_uri": "https://localhost:8080/",
          "height": 34
        }
      },
      "source": [
        "def cal_average(num):\n",
        "    sum_num = 0\n",
        "    for t in num:\n",
        "        sum_num = sum_num + t           \n",
        "\n",
        "    avg = sum_num / len(num)\n",
        "    return avg\n",
        "\n",
        "print(\"The average is\", cal_average([4,6,7,8,8,9,3,87,2,2,5,7,3,7,8,3,2,5,7,8,89,33,22,2,3,3,3,3]))"
      ],
      "execution_count": 37,
      "outputs": [
        {
          "output_type": "stream",
          "text": [
            "The average is 12.464285714285714\n"
          ],
          "name": "stdout"
        }
      ]
    },
    {
      "cell_type": "markdown",
      "metadata": {
        "id": "Cf_gaiGyF3E7"
      },
      "source": [
        "Sorting"
      ]
    },
    {
      "cell_type": "code",
      "metadata": {
        "id": "9ZRehCzvD5lk",
        "outputId": "e78adb59-d3f4-4f92-e2b6-1c05afbbbfd6",
        "colab": {
          "base_uri": "https://localhost:8080/",
          "height": 34
        }
      },
      "source": [
        "def sorting(li):\n",
        "    for i in range(len(li)):\n",
        "        for j in range(len(li)):\n",
        "            if li[i] < li[j]:\n",
        "                li[j],li[i] = li[i],li[j]\n",
        "    return li\n",
        "\n",
        "listToSort = [4,6,7,8,8,9,3,87,2,2,5,7,3,7,8,3,2,5,7,8,89,33,22,2,3,3,3,3]\n",
        "print(sorting(listToSort))"
      ],
      "execution_count": 42,
      "outputs": [
        {
          "output_type": "stream",
          "text": [
            "[2, 2, 2, 2, 3, 3, 3, 3, 3, 3, 3, 4, 5, 5, 6, 7, 7, 7, 7, 8, 8, 8, 8, 9, 22, 33, 87, 89]\n"
          ],
          "name": "stdout"
        }
      ]
    }
  ]
}