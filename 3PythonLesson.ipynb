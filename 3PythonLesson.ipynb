{
  "nbformat": 4,
  "nbformat_minor": 0,
  "metadata": {
    "colab": {
      "name": "3PythonLesson.ipynb",
      "provenance": [],
      "collapsed_sections": [],
      "authorship_tag": "ABX9TyPlCcn8eFfBg57zUme9+GPP",
      "include_colab_link": true
    },
    "kernelspec": {
      "name": "python3",
      "display_name": "Python 3"
    }
  },
  "cells": [
    {
      "cell_type": "markdown",
      "metadata": {
        "id": "view-in-github",
        "colab_type": "text"
      },
      "source": [
        "<a href=\"https://colab.research.google.com/github/jayaninadee/IJSE-4thSem/blob/main/3PythonLesson.ipynb\" target=\"_parent\"><img src=\"https://colab.research.google.com/assets/colab-badge.svg\" alt=\"Open In Colab\"/></a>"
      ]
    },
    {
      "cell_type": "code",
      "metadata": {
        "id": "SzQK56-YpU-3",
        "outputId": "c7f202a0-66f6-434c-91d2-7506ac6eb30c",
        "colab": {
          "base_uri": "https://localhost:8080/",
          "height": 54
        }
      },
      "source": [
        "person={\n",
        "    \"name\":\"Nuwan\",\n",
        "    \"age\":12,\n",
        "    \"birth_data\":\"2000-12-12\",\n",
        "    \"address\":{\n",
        "        \"town\":\"Mathugama\",\n",
        "        \"street\":\"Kaluthara Road\",\n",
        "        \"number\":25\n",
        "    }\n",
        "}\n",
        "print(person)"
      ],
      "execution_count": 1,
      "outputs": [
        {
          "output_type": "stream",
          "text": [
            "{'name': 'Nuwan', 'age': 12, 'birth_data': '2000-12-12', 'address': {'town': 'Mathugama', 'street': 'Kaluthara Road', 'number': 25}}\n"
          ],
          "name": "stdout"
        }
      ]
    },
    {
      "cell_type": "code",
      "metadata": {
        "id": "ny4J-wVerAQ8"
      },
      "source": [
        "#definition\n",
        "first_name= \"Jayani\"\n",
        "last_name=\"Nadeesha\"\n",
        "age=21\n",
        "###Address\n",
        "home_number=\"367/1\"\n",
        "street=\"Walana\"\n",
        "town=\"Panadura\""
      ],
      "execution_count": 2,
      "outputs": []
    },
    {
      "cell_type": "code",
      "metadata": {
        "id": "uo3d8_6UrzBE",
        "outputId": "73c1c271-5160-4aba-ecfb-67603465aa7d",
        "colab": {
          "base_uri": "https://localhost:8080/",
          "height": 54
        }
      },
      "source": [
        "person={\n",
        "    \"first_name\":first_name,\n",
        "    \"last_name\":last_name,\n",
        "    \"home_number\":home_number,\n",
        "    \"street\":street,\n",
        "    \"town\":town\n",
        "    \n",
        "}\n",
        "print(person)\n"
      ],
      "execution_count": 5,
      "outputs": [
        {
          "output_type": "stream",
          "text": [
            "{'first_name': 'Jayani', 'last_name': 'Nadeesha', 'home_number': '367/1', 'street': 'Walana', 'town': 'Panadura'}\n"
          ],
          "name": "stdout"
        }
      ]
    },
    {
      "cell_type": "code",
      "metadata": {
        "id": "6i7tMZL3slam",
        "outputId": "bc31b903-02d2-48bd-fd07-1fe65c4d9b4e",
        "colab": {
          "base_uri": "https://localhost:8080/",
          "height": 34
        }
      },
      "source": [
        "address={\n",
        "    \"home_number\":home_number,\n",
        "    \"street\":street,\n",
        "    \"town\":town\n",
        "}\n",
        "print(address)"
      ],
      "execution_count": 6,
      "outputs": [
        {
          "output_type": "stream",
          "text": [
            "{'home_number': '367/1', 'street': 'Walana', 'town': 'Panadura'}\n"
          ],
          "name": "stdout"
        }
      ]
    },
    {
      "cell_type": "code",
      "metadata": {
        "id": "0PkhqXGRs9Xa",
        "outputId": "34b0ec91-f42c-409d-d2c9-72472d4e36a8",
        "colab": {
          "base_uri": "https://localhost:8080/",
          "height": 54
        }
      },
      "source": [
        "detailed_person ={ \n",
        "    \"personal_information\":{\n",
        "      \"first_name\":first_name,\n",
        "      \"last_name\":last_name,\n",
        "    },\n",
        "      \"address\":address\n",
        "}\n",
        "print(detailed_person)\n",
        "  "
      ],
      "execution_count": 11,
      "outputs": [
        {
          "output_type": "stream",
          "text": [
            "{'personal_information': {'first_name': 'Jayani', 'last_name': 'Nadeesha'}, 'address': {'home_number': '367/1', 'street': 'Walana', 'town': 'Panadura'}}\n"
          ],
          "name": "stdout"
        }
      ]
    },
    {
      "cell_type": "code",
      "metadata": {
        "id": "ge4zcD42vCCY",
        "outputId": "d6b0cd7a-1330-4df0-9b7d-f14e6928a178",
        "colab": {
          "base_uri": "https://localhost:8080/",
          "height": 51
        }
      },
      "source": [
        "from pprint import pprint\n",
        "pprint(detailed_person)"
      ],
      "execution_count": 12,
      "outputs": [
        {
          "output_type": "stream",
          "text": [
            "{'address': {'home_number': '367/1', 'street': 'Walana', 'town': 'Panadura'},\n",
            " 'personal_information': {'first_name': 'Jayani', 'last_name': 'Nadeesha'}}\n"
          ],
          "name": "stdout"
        }
      ]
    },
    {
      "cell_type": "code",
      "metadata": {
        "id": "3Nc8vRa1vOVo",
        "outputId": "a8b686df-2f9b-4b7b-c573-ddc7fbcb2822",
        "colab": {
          "base_uri": "https://localhost:8080/",
          "height": 51
        }
      },
      "source": [
        "detailed_person"
      ],
      "execution_count": 13,
      "outputs": [
        {
          "output_type": "execute_result",
          "data": {
            "text/plain": [
              "{'address': {'home_number': '367/1', 'street': 'Walana', 'town': 'Panadura'},\n",
              " 'personal_information': {'first_name': 'Jayani', 'last_name': 'Nadeesha'}}"
            ]
          },
          "metadata": {
            "tags": []
          },
          "execution_count": 13
        }
      ]
    },
    {
      "cell_type": "code",
      "metadata": {
        "id": "OQ7DZi39vUwJ",
        "outputId": "04e50ccc-2a01-491c-9d97-774ff79a367f",
        "colab": {
          "base_uri": "https://localhost:8080/",
          "height": 102
        }
      },
      "source": [
        "person"
      ],
      "execution_count": 14,
      "outputs": [
        {
          "output_type": "execute_result",
          "data": {
            "text/plain": [
              "{'first_name': 'Jayani',\n",
              " 'home_number': '367/1',\n",
              " 'last_name': 'Nadeesha',\n",
              " 'street': 'Walana',\n",
              " 'town': 'Panadura'}"
            ]
          },
          "metadata": {
            "tags": []
          },
          "execution_count": 14
        }
      ]
    },
    {
      "cell_type": "code",
      "metadata": {
        "id": "d95S8BibwCKB",
        "outputId": "3a1d9c60-30c5-4454-845d-84f59536384e",
        "colab": {
          "base_uri": "https://localhost:8080/",
          "height": 35
        }
      },
      "source": [
        "person[\"first_name\"]"
      ],
      "execution_count": 15,
      "outputs": [
        {
          "output_type": "execute_result",
          "data": {
            "application/vnd.google.colaboratory.intrinsic+json": {
              "type": "string"
            },
            "text/plain": [
              "'Jayani'"
            ]
          },
          "metadata": {
            "tags": []
          },
          "execution_count": 15
        }
      ]
    },
    {
      "cell_type": "code",
      "metadata": {
        "id": "3n2ptaWRwR8b",
        "outputId": "c4e9ab21-9362-44e8-a07c-25c36a081ef8",
        "colab": {
          "base_uri": "https://localhost:8080/",
          "height": 35
        }
      },
      "source": [
        "person.get(\"first_name\")"
      ],
      "execution_count": 18,
      "outputs": [
        {
          "output_type": "execute_result",
          "data": {
            "application/vnd.google.colaboratory.intrinsic+json": {
              "type": "string"
            },
            "text/plain": [
              "'Jayani'"
            ]
          },
          "metadata": {
            "tags": []
          },
          "execution_count": 18
        }
      ]
    },
    {
      "cell_type": "code",
      "metadata": {
        "id": "yxjbViFUwtq7"
      },
      "source": [
        ""
      ],
      "execution_count": null,
      "outputs": []
    },
    {
      "cell_type": "code",
      "metadata": {
        "id": "r0ep5siXwfnd",
        "outputId": "aef0d21a-39d5-4ca0-8500-8adf941bc184",
        "colab": {
          "base_uri": "https://localhost:8080/",
          "height": 163
        }
      },
      "source": [
        "person.first_name"
      ],
      "execution_count": 17,
      "outputs": [
        {
          "output_type": "error",
          "ename": "AttributeError",
          "evalue": "ignored",
          "traceback": [
            "\u001b[0;31m---------------------------------------------------------------------------\u001b[0m",
            "\u001b[0;31mAttributeError\u001b[0m                            Traceback (most recent call last)",
            "\u001b[0;32m<ipython-input-17-e613cb1463e3>\u001b[0m in \u001b[0;36m<module>\u001b[0;34m()\u001b[0m\n\u001b[0;32m----> 1\u001b[0;31m \u001b[0mperson\u001b[0m\u001b[0;34m.\u001b[0m\u001b[0mfirst_name\u001b[0m\u001b[0;34m\u001b[0m\u001b[0;34m\u001b[0m\u001b[0m\n\u001b[0m",
            "\u001b[0;31mAttributeError\u001b[0m: 'dict' object has no attribute 'first_name'"
          ]
        }
      ]
    },
    {
      "cell_type": "code",
      "metadata": {
        "id": "Qr0meDxcwqht"
      },
      "source": [
        "person[\"contact_number\"]=\"071777777\""
      ],
      "execution_count": 19,
      "outputs": []
    },
    {
      "cell_type": "code",
      "metadata": {
        "id": "PFqsWeSpxUEL",
        "outputId": "f93d17a2-8490-481b-cf54-194f6a9e1bfb",
        "colab": {
          "base_uri": "https://localhost:8080/",
          "height": 119
        }
      },
      "source": [
        "person"
      ],
      "execution_count": 20,
      "outputs": [
        {
          "output_type": "execute_result",
          "data": {
            "text/plain": [
              "{'contact_number': '071777777',\n",
              " 'first_name': 'Jayani',\n",
              " 'home_number': '367/1',\n",
              " 'last_name': 'Nadeesha',\n",
              " 'street': 'Walana',\n",
              " 'town': 'Panadura'}"
            ]
          },
          "metadata": {
            "tags": []
          },
          "execution_count": 20
        }
      ]
    },
    {
      "cell_type": "code",
      "metadata": {
        "id": "cwLsz1BJxWjX"
      },
      "source": [
        "person[\"age\"]=\"90\""
      ],
      "execution_count": 21,
      "outputs": []
    },
    {
      "cell_type": "code",
      "metadata": {
        "id": "0UOBg8wPxhCA",
        "outputId": "95fb7894-944c-4908-91f1-00dcef208d9b",
        "colab": {
          "base_uri": "https://localhost:8080/",
          "height": 136
        }
      },
      "source": [
        "person"
      ],
      "execution_count": 22,
      "outputs": [
        {
          "output_type": "execute_result",
          "data": {
            "text/plain": [
              "{'age': '90',\n",
              " 'contact_number': '071777777',\n",
              " 'first_name': 'Jayani',\n",
              " 'home_number': '367/1',\n",
              " 'last_name': 'Nadeesha',\n",
              " 'street': 'Walana',\n",
              " 'town': 'Panadura'}"
            ]
          },
          "metadata": {
            "tags": []
          },
          "execution_count": 22
        }
      ]
    },
    {
      "cell_type": "markdown",
      "metadata": {
        "id": "E4gRE4RI0NJT"
      },
      "source": [
        "list\n"
      ]
    },
    {
      "cell_type": "code",
      "metadata": {
        "id": "mBWNwxw80Oof"
      },
      "source": [
        ""
      ],
      "execution_count": null,
      "outputs": []
    },
    {
      "cell_type": "code",
      "metadata": {
        "id": "lzCNQ_azxifj",
        "outputId": "553488f3-d782-49db-aa37-cfc1e6681797",
        "colab": {
          "base_uri": "https://localhost:8080/",
          "height": 34
        }
      },
      "source": [
        "age_list=[]\n",
        "type(age_list)"
      ],
      "execution_count": 24,
      "outputs": [
        {
          "output_type": "execute_result",
          "data": {
            "text/plain": [
              "list"
            ]
          },
          "metadata": {
            "tags": []
          },
          "execution_count": 24
        }
      ]
    },
    {
      "cell_type": "code",
      "metadata": {
        "id": "6kHpOKIy01Ez"
      },
      "source": [
        "age_list=[2,3,4,5,6,7]"
      ],
      "execution_count": 25,
      "outputs": []
    },
    {
      "cell_type": "code",
      "metadata": {
        "id": "enf0eUZQ07xM",
        "outputId": "40fee014-3efb-46ed-9a6f-c6d511182b62",
        "colab": {
          "base_uri": "https://localhost:8080/",
          "height": 34
        }
      },
      "source": [
        "age_list[0]"
      ],
      "execution_count": 26,
      "outputs": [
        {
          "output_type": "execute_result",
          "data": {
            "text/plain": [
              "2"
            ]
          },
          "metadata": {
            "tags": []
          },
          "execution_count": 26
        }
      ]
    },
    {
      "cell_type": "code",
      "metadata": {
        "id": "0M_j03In0_0G",
        "outputId": "2a7a3363-8063-43fd-8c50-14241f485270",
        "colab": {
          "base_uri": "https://localhost:8080/",
          "height": 34
        }
      },
      "source": [
        "age_list[-1]"
      ],
      "execution_count": 27,
      "outputs": [
        {
          "output_type": "execute_result",
          "data": {
            "text/plain": [
              "7"
            ]
          },
          "metadata": {
            "tags": []
          },
          "execution_count": 27
        }
      ]
    },
    {
      "cell_type": "code",
      "metadata": {
        "id": "q5DwcaBS1FgW",
        "outputId": "4722172f-6863-4ef3-e198-f47dcec4c0b6",
        "colab": {
          "base_uri": "https://localhost:8080/",
          "height": 34
        }
      },
      "source": [
        "age_list[1:3]"
      ],
      "execution_count": 28,
      "outputs": [
        {
          "output_type": "execute_result",
          "data": {
            "text/plain": [
              "[3, 4]"
            ]
          },
          "metadata": {
            "tags": []
          },
          "execution_count": 28
        }
      ]
    },
    {
      "cell_type": "code",
      "metadata": {
        "id": "sRkhURu81Xev",
        "outputId": "9bebfa7e-5cd3-49ba-e90a-88e5f2060fa2",
        "colab": {
          "base_uri": "https://localhost:8080/",
          "height": 34
        }
      },
      "source": [
        "age_list[2:5]"
      ],
      "execution_count": 30,
      "outputs": [
        {
          "output_type": "execute_result",
          "data": {
            "text/plain": [
              "[4, 5, 6]"
            ]
          },
          "metadata": {
            "tags": []
          },
          "execution_count": 30
        }
      ]
    },
    {
      "cell_type": "code",
      "metadata": {
        "id": "ERJQsIyS137g"
      },
      "source": [
        "age_list2=[9,7,6,5,4]"
      ],
      "execution_count": 31,
      "outputs": []
    },
    {
      "cell_type": "code",
      "metadata": {
        "id": "-dJbFmUd2Sa8"
      },
      "source": [
        "age_list_all=[]"
      ],
      "execution_count": 32,
      "outputs": []
    },
    {
      "cell_type": "code",
      "metadata": {
        "id": "c3U532fd2V6Q",
        "outputId": "81807045-7b6b-428b-b986-0a350e7e22a8",
        "colab": {
          "base_uri": "https://localhost:8080/",
          "height": 34
        }
      },
      "source": [
        "age_list_all=age_list+age_list2\n",
        "print(age_list_all)"
      ],
      "execution_count": 35,
      "outputs": [
        {
          "output_type": "stream",
          "text": [
            "[2, 3, 4, 5, 6, 7, 9, 7, 6, 5, 4]\n"
          ],
          "name": "stdout"
        }
      ]
    },
    {
      "cell_type": "code",
      "metadata": {
        "id": "CmuHKo1g2hYD",
        "outputId": "ac6a75ed-2ce8-400f-e157-91cec380e2ea",
        "colab": {
          "base_uri": "https://localhost:8080/",
          "height": 34
        }
      },
      "source": [
        "len(age_list_all)"
      ],
      "execution_count": 36,
      "outputs": [
        {
          "output_type": "execute_result",
          "data": {
            "text/plain": [
              "11"
            ]
          },
          "metadata": {
            "tags": []
          },
          "execution_count": 36
        }
      ]
    },
    {
      "cell_type": "code",
      "metadata": {
        "id": "28Pj7b6q1chN"
      },
      "source": [
        "name_list=[\"saman\",\"kamal\"]\n",
        "age_list=[23,24]"
      ],
      "execution_count": null,
      "outputs": []
    },
    {
      "cell_type": "code",
      "metadata": {
        "id": "SguPA5sm0J5-",
        "outputId": "5a571cf7-0b68-4c42-a900-ae48d0a82d32",
        "colab": {
          "base_uri": "https://localhost:8080/",
          "height": 238
        }
      },
      "source": [
        "person_details=[{\"name\":name,\"age\":age} for name,age in zip(name_list,age_list) ]\n",
        "print(person_details)\n",
        "[{'name':'Saman','age':12},{'name':'Saman','age':12},{'name':'Saman','age':12}]"
      ],
      "execution_count": 42,
      "outputs": [
        {
          "output_type": "error",
          "ename": "NameError",
          "evalue": "ignored",
          "traceback": [
            "\u001b[0;31m---------------------------------------------------------------------------\u001b[0m",
            "\u001b[0;31mNameError\u001b[0m                                 Traceback (most recent call last)",
            "\u001b[0;32m<ipython-input-42-7b2c66f950fd>\u001b[0m in \u001b[0;36m<module>\u001b[0;34m()\u001b[0m\n\u001b[0;32m----> 1\u001b[0;31m \u001b[0mperson_details\u001b[0m\u001b[0;34m=\u001b[0m\u001b[0;34m[\u001b[0m\u001b[0;34m{\u001b[0m\u001b[0;34m\"name\"\u001b[0m\u001b[0;34m:\u001b[0m\u001b[0mname\u001b[0m\u001b[0;34m,\u001b[0m\u001b[0;34m\"age\"\u001b[0m\u001b[0;34m:\u001b[0m\u001b[0mage\u001b[0m\u001b[0;34m}\u001b[0m \u001b[0;32mfor\u001b[0m \u001b[0mname\u001b[0m\u001b[0;34m,\u001b[0m\u001b[0mage\u001b[0m \u001b[0;32min\u001b[0m \u001b[0mzip\u001b[0m\u001b[0;34m(\u001b[0m\u001b[0mname_list\u001b[0m\u001b[0;34m,\u001b[0m\u001b[0mage_list\u001b[0m\u001b[0;34m)\u001b[0m \u001b[0;34m]\u001b[0m\u001b[0;34m\u001b[0m\u001b[0;34m\u001b[0m\u001b[0m\n\u001b[0m\u001b[1;32m      2\u001b[0m \u001b[0mprint\u001b[0m\u001b[0;34m(\u001b[0m\u001b[0mperson_details\u001b[0m\u001b[0;34m)\u001b[0m\u001b[0;34m\u001b[0m\u001b[0;34m\u001b[0m\u001b[0m\n\u001b[1;32m      3\u001b[0m \u001b[0;34m[\u001b[0m\u001b[0;34m{\u001b[0m\u001b[0;34m'name'\u001b[0m\u001b[0;34m:\u001b[0m\u001b[0;34m'Saman'\u001b[0m\u001b[0;34m,\u001b[0m\u001b[0;34m'age'\u001b[0m\u001b[0;34m:\u001b[0m\u001b[0;36m12\u001b[0m\u001b[0;34m}\u001b[0m\u001b[0;34m,\u001b[0m\u001b[0;34m{\u001b[0m\u001b[0;34m'name'\u001b[0m\u001b[0;34m:\u001b[0m\u001b[0;34m'Saman'\u001b[0m\u001b[0;34m,\u001b[0m\u001b[0;34m'age'\u001b[0m\u001b[0;34m:\u001b[0m\u001b[0;36m12\u001b[0m\u001b[0;34m}\u001b[0m\u001b[0;34m,\u001b[0m\u001b[0;34m{\u001b[0m\u001b[0;34m'name'\u001b[0m\u001b[0;34m:\u001b[0m\u001b[0;34m'Saman'\u001b[0m\u001b[0;34m,\u001b[0m\u001b[0;34m'age'\u001b[0m\u001b[0;34m:\u001b[0m\u001b[0;36m12\u001b[0m\u001b[0;34m}\u001b[0m\u001b[0;34m]\u001b[0m\u001b[0;34m\u001b[0m\u001b[0;34m\u001b[0m\u001b[0m\n",
            "\u001b[0;31mNameError\u001b[0m: name 'name_list' is not defined"
          ]
        }
      ]
    },
    {
      "cell_type": "code",
      "metadata": {
        "id": "VtKxMbcxR15t",
        "outputId": "bdc3e3bd-f2f5-49bf-e292-6e549ae67e18",
        "colab": {
          "base_uri": "https://localhost:8080/",
          "height": 34
        }
      },
      "source": [
        "age_list=[12,54,75,23,32]\n",
        "def age_filter(age):\n",
        "  return True if age>20 else False\n",
        "filtered_ages= []\n",
        "for age in age_list:\n",
        "  if age_filter(age):\n",
        "    filtered_ages.append(age)\n",
        "print(filtered_ages)"
      ],
      "execution_count": 44,
      "outputs": [
        {
          "output_type": "stream",
          "text": [
            "[54, 75, 23, 32]\n"
          ],
          "name": "stdout"
        }
      ]
    },
    {
      "cell_type": "code",
      "metadata": {
        "id": "bV-ryl-BSxC0",
        "outputId": "1045e616-1fa3-48bd-e200-ad414d0417e2",
        "colab": {
          "base_uri": "https://localhost:8080/",
          "height": 34
        }
      },
      "source": [
        "list(filter(age_filter,age_list))"
      ],
      "execution_count": 45,
      "outputs": [
        {
          "output_type": "execute_result",
          "data": {
            "text/plain": [
              "[54, 75, 23, 32]"
            ]
          },
          "metadata": {
            "tags": []
          },
          "execution_count": 45
        }
      ]
    },
    {
      "cell_type": "code",
      "metadata": {
        "id": "0ZHI2ZF8S4zu",
        "outputId": "bd90dc23-2225-4790-d802-52a0e93eb36b",
        "colab": {
          "base_uri": "https://localhost:8080/",
          "height": 34
        }
      },
      "source": [
        "list(filter(lambda age: True if age>30 else False, age_list))"
      ],
      "execution_count": 48,
      "outputs": [
        {
          "output_type": "execute_result",
          "data": {
            "text/plain": [
              "[54, 75, 32]"
            ]
          },
          "metadata": {
            "tags": []
          },
          "execution_count": 48
        }
      ]
    },
    {
      "cell_type": "code",
      "metadata": {
        "id": "eZ8mQaI0TW7N"
      },
      "source": [
        ""
      ],
      "execution_count": null,
      "outputs": []
    }
  ]
}